{
 "cells": [
  {
   "cell_type": "markdown",
   "metadata": {},
   "source": [
    "# Natural Language Processing Fundamentals in Python\n",
    "We'll learn Natural Language Processing (NLP) basics, such as how to identify and separate words, how to extract topics in a text, and how to build your own fake news classifier. You'll also learn how to use basic libraries such as NLTK, alongside libraries which utilize deep learning to solve common NLP problems. This course will give you the foundation to process and parse text as you move forward in your Python learning.\n",
    "\n",
    "## 1.Regular expressions & word tokenization\n",
    "### 1.1. Introduction to regular expressions\n",
    "**What is the Natural Language Processing (NLP)**\n",
    "* Field of study focused on making sense of language\n",
    "    * Using statistics and computers\n",
    "* You will learn the basics of NLP\n",
    "    * Topic identification\n",
    "    * Text classification\n",
    "* NLP applications include:\n",
    "    * Chatbots\n",
    "    * Translation\n",
    "    * Sentiment analysis\n",
    "**What exactly are regular expressions?**\n",
    "* Strings with a special syntax\n",
    "* Allow us to match patterns in other strings\n",
    "* Applications of regular expressions:\n",
    "    * Find all web links in a document\n",
    "    * Parse email addresses, remove/replace unwanted characters\n",
    "    \n",
    "```python\n",
    "#import library\n",
    "import re\n",
    "#matches a pattern with a string\n",
    "re.match('abc', 'abcdef')\n",
    "```\n",
    "it's takes the first argument as pattern and second argument as a string and returns a match object\n",
    "```python\n",
    "##OUTPUT\n",
    "<_sre.SRE_Match object; span=(0, 3), match='abc'>\n",
    "\n",
    "#it is used for word matches\n",
    "word_regex = '\\w+'\n",
    "In [4]: re.match(word_regex, 'hi there!') \n",
    "###OUTPUT #retuns first word it found\n",
    "<_sre.SRE_Match object; span=(0, 2), match='hi'>\n",
    "```\n",
    "\n",
    "### 1.2.Common regex patterns\n",
    "|Pattern|Matches|Example|\n",
    "|---|---|---|\n",
    "|\\w+|word|'Magic'|\n",
    "|\\d|digit|9|\n",
    "|\\s|space|''|\n",
    "|.*|wildcard|match anything|\n",
    "|+or*|greedy match|repeats of single letter|\n",
    "|\\S|not Space|'no_spaces'|\n",
    "|[a-z]|lowercase group|'abcdefg'|\n",
    "\n",
    "### Python's re Module\n",
    "* `re` module\n",
    "* `split:` split a string on regex\n",
    "* `findall:` find all patterns in a string\n",
    "* `search:` search for a pattern\n",
    "* `match:` match an entire string or substring based on a pattern\n",
    "* Pattern first, and the string second\n",
    "* May return an iterator, string, or match object\n",
    "\n",
    "```python\n",
    "In [5]: re.split('\\s+', 'Split on spaces.')\n",
    "Out[5]: ['Split', 'on', 'spaces.']\n",
    "```\n"
   ]
  },
  {
   "cell_type": "code",
   "execution_count": null,
   "metadata": {},
   "outputs": [],
   "source": []
  },
  {
   "cell_type": "code",
   "execution_count": null,
   "metadata": {},
   "outputs": [],
   "source": []
  }
 ],
 "metadata": {
  "kernelspec": {
   "display_name": "Python 3",
   "language": "python",
   "name": "python3"
  },
  "language_info": {
   "codemirror_mode": {
    "name": "ipython",
    "version": 3
   },
   "file_extension": ".py",
   "mimetype": "text/x-python",
   "name": "python",
   "nbconvert_exporter": "python",
   "pygments_lexer": "ipython3",
   "version": "3.7.2"
  }
 },
 "nbformat": 4,
 "nbformat_minor": 2
}
