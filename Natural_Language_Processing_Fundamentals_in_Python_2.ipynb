{
 "cells": [
  {
   "cell_type": "markdown",
   "metadata": {},
   "source": [
    "# Natural Language Processing Fundamentals in Python\n",
    "## Named Entity Recognition?\n",
    "\n",
    "* NLP task to identify important named entities in the text\n",
    "    * People, places, organizations\n",
    "    * Dates, states, works of art\n",
    "    * ... and other categories!\n",
    "* Can be used alongside topic identification\n",
    "    * ... or on its own!\n",
    "* Who? What? When? Where?\n"
   ]
  },
  {
   "cell_type": "code",
   "execution_count": 1,
   "metadata": {},
   "outputs": [
    {
     "name": "stdout",
     "output_type": "stream",
     "text": [
      "wiki_text_bug.txt       wiki_text_debugging.txt wiki_text_malware.txt\r\n",
      "wiki_text_computer.txt  wiki_text_exception.txt wiki_text_program.txt\r\n",
      "wiki_text_crash.txt     wiki_text_hopper.txt    wiki_text_reversing.txt\r\n",
      "wiki_text_debugger.txt  wiki_text_language.txt  wiki_text_software.txt\r\n"
     ]
    }
   ],
   "source": [
    "#you can see that which article in  the file\n",
    "!ls data/NLP/Wikipedi_article\n"
   ]
  },
  {
   "cell_type": "markdown",
   "metadata": {},
   "source": [
    "### nltk and the Stanford CoreNLP Library\n",
    "* The Stanford CoreNLP library:\n",
    "* Integrated into Python via nltk\n",
    "* Java based\n",
    "* Support for NER as well as coreference and dependency trees\n",
    "\n",
    "```python\n",
    "import nltk\n",
    "\n",
    "In [2]: sentence = '''In New York, I like to ride the Metro to visit MOMA \n",
    "                      and some restaurants rated well by Ruth Reichl.'''\n",
    "\n",
    "In [3]: tokenized_sent = nltk.word_tokenize(sentence)\n",
    "In [4]: tagged_sent = nltk.pos_tag(tokenized_sent)\n",
    "In [5]: tagged_sent[:3]\n",
    "Out[5]: [('In', 'IN'), ('New', 'NNP'), ('York', 'NNP')]\n",
    "```"
   ]
  },
  {
   "cell_type": "code",
   "execution_count": 2,
   "metadata": {},
   "outputs": [
    {
     "name": "stdout",
     "output_type": "stream",
     "text": [
      "[('In', 'IN'), ('New', 'NNP'), ('York', 'NNP')]\n"
     ]
    }
   ],
   "source": [
    "import nltk\n",
    "\n",
    "sentence = '''In New York, I like to ride the Metro to visit MOMA \n",
    "                      and some restaurants rated well by Ruth Reichl.'''\n",
    "\n",
    "tokenized_sent = nltk.word_tokenize(sentence)\n",
    "#adding a tag for proper name , pronoun, adjective...\n",
    "tagged_snt =nltk.pos_tag(tokenized_sent)\n",
    "print(tagged_snt[:3])"
   ]
  },
  {
   "cell_type": "code",
   "execution_count": 3,
   "metadata": {},
   "outputs": [
    {
     "name": "stdout",
     "output_type": "stream",
     "text": [
      "(S\n",
      "  In/IN\n",
      "  (GPE New/NNP York/NNP)\n",
      "  ,/,\n",
      "  I/PRP\n",
      "  like/VBP\n",
      "  to/TO\n",
      "  ride/VB\n",
      "  the/DT\n",
      "  (ORGANIZATION Metro/NNP)\n",
      "  to/TO\n",
      "  visit/VB\n",
      "  (ORGANIZATION MOMA/NNP)\n",
      "  and/CC\n",
      "  some/DT\n",
      "  restaurants/NNS\n",
      "  rated/VBN\n",
      "  well/RB\n",
      "  by/IN\n",
      "  (PERSON Ruth/NNP Reichl/NNP)\n",
      "  ./.)\n"
     ]
    }
   ],
   "source": [
    "# return the sentence as tree\n",
    "print(nltk.ne_chunk(tagged_snt))"
   ]
  },
  {
   "cell_type": "code",
   "execution_count": 28,
   "metadata": {},
   "outputs": [
    {
     "name": "stdout",
     "output_type": "stream",
     "text": [
      "(NE Uber/NNP)\n",
      "(NE Beyond/NN)\n",
      "(NE Apple/NNP)\n",
      "(NE Uber/NNP)\n",
      "(NE Uber/NNP)\n",
      "(NE Travis/NNP Kalanick/NNP)\n",
      "(NE Tim/NNP Cook/NNP)\n",
      "(NE Apple/NNP)\n",
      "(NE Silicon/NNP Valley/NNP)\n",
      "(NE CEO/NNP)\n",
      "(NE Yahoo/NNP)\n",
      "(NE Marissa/NNP Mayer/NNP)\n"
     ]
    }
   ],
   "source": [
    "file_name = 'data/NLP/New_articles/uber_apple.txt'\n",
    "with open(file_name, 'r') as file:\n",
    "    ## Tokenize the article into sentences: sentences\n",
    "    sentences = nltk.sent_tokenize(file.read())\n",
    "    # Tokenize each sentence into words: token_sentences\n",
    "    token_sentences = [nltk.word_tokenize(sent) for sent in sentences]\n",
    "    # Tag each tokenized sentence into parts of speech: pos_sentences\n",
    "    pos_sentences = [nltk.pos_tag(sent) for sent in token_sentences]\n",
    "    # Create the named entity chunks: chunked_sentences\n",
    "    chunk_sentences = nltk.ne_chunk_sents(pos_sentences, binary=True)\n",
    "    \n",
    "    for sent in chunk_sentences:\n",
    "        #print(sent)\n",
    "        for chunk in sent:\n",
    "            #The hasattr() method returns true if an object has the given named attribute and false \n",
    "            #if it does not.\n",
    "            if hasattr(chunk, 'label')  and chunk.label() == 'NE':\n",
    "                print(chunk)\n",
    "                      "
   ]
  },
  {
   "cell_type": "code",
   "execution_count": 38,
   "metadata": {},
   "outputs": [
    {
     "name": "stdout",
     "output_type": "stream",
     "text": [
      "['GPE', 'PERSON', 'ORGANIZATION']\n"
     ]
    },
    {
     "data": {
      "image/png": "[encoded data removed]",
      "text/plain": [
       "<Figure size 432x288 with 1 Axes>"
      ]
     },
     "metadata": {},
     "output_type": "display_data"
    }
   ],
   "source": [
    "from collections import  defaultdict\n",
    "import matplotlib.pyplot as plt\n",
    "\n",
    "file_name = 'data/NLP/New_articles/uber_apple.txt'\n",
    "with open(file_name, 'r') as file:\n",
    "    ## Tokenize the article into sentences: sentences\n",
    "    sentences = nltk.sent_tokenize(file.read())\n",
    "    # Tokenize each sentence into words: token_sentences\n",
    "    token_sentences = [nltk.word_tokenize(sent) for sent in sentences]\n",
    "    # Tag each tokenized sentence into parts of speech: pos_sentences\n",
    "    pos_sentences = [nltk.pos_tag(sent) for sent in token_sentences]\n",
    "    # Create the named entity chunks: chunked_sentences\n",
    "    chunk_sentences = nltk.ne_chunk_sents(pos_sentences, binary=False)\n",
    "    ner_categories = defaultdict(int)\n",
    "\n",
    "    # Create the nested for loop\n",
    "    for sent in chunk_sentences:\n",
    "        for chunk in sent:\n",
    "            if hasattr(chunk, 'label'):\n",
    "                ner_categories[chunk.label()] += 1\n",
    "\n",
    "    # Create a list from the dictionary keys for the chart labels: labels\n",
    "    labels = list(ner_categories.keys())\n",
    "    print(labels)\n",
    "\n",
    "    # Create a list of the values: values\n",
    "    values = [ner_categories.get(l) for l in labels]\n",
    "\n",
    "    # Create the pie chart\n",
    "    plt.pie(values, labels=labels, autopct='%1.1f%%', startangle=140)\n",
    "\n",
    "    # Display the chart\n",
    "    plt.show()\n",
    "   "
   ]
  },
  {
   "cell_type": "markdown",
   "metadata": {},
   "source": [
    "### SpaCy\n",
    "* NLP library similar to gensim, with different implementations\n",
    "* Focus on creating NLP pipelines to generate models and corpora\n",
    "* Open-source, with extra libraries and tools\n",
    "    * Displacy\n",
    "    \n",
    "    \n",
    "```python\n",
    "\n",
    "In [1]: import spacy\n",
    "In [2]: nlp = spacy.load('en')\n",
    "In [3]: nlp.entity\n",
    "Out[3]: <spacy.pipeline.EntityRecognizer at 0x7f76b75e68b8>\n",
    "In [4]: doc = nlp(\"\"\"Berlin is the capital of Germany; \n",
    "                  and the residence of Chancellor Angela Merkel.\"\"\")\n",
    "In [5]: doc.ents\n",
    "Out[5]: (Berlin, Germany, Angela Merkel)\n",
    "In [6]: print(doc.ents[0], doc.ents[0].label_)\n",
    "Berlin GPE\n",
    "\n",
    "```\n",
    "\n",
    "**Why use SpaCy for NER(Name Entity Recognation)?**\n",
    "* Easy pipeline creation\n",
    "* Different entity types compared to nltk\n",
    "* Informal language corpora\n",
    "    * Easily find entities in Tweets and chat messages\n",
    "* Quickly growing!"
   ]
  },
  {
   "cell_type": "code",
   "execution_count": 40,
   "metadata": {},
   "outputs": [],
   "source": [
    "import spacy"
   ]
  },
  {
   "cell_type": "code",
   "execution_count": 66,
   "metadata": {},
   "outputs": [
    {
     "name": "stdout",
     "output_type": "stream",
     "text": [
      "Berlin GPE\n",
      "Germany GPE\n",
      "Angela Merkel PERSON\n"
     ]
    }
   ],
   "source": [
    "#if \"en\" dosen't work for you\n",
    "#sudo python -m spacy download en\n",
    "nlp = spacy.load(\"en\")\n",
    "nlp.entity\n",
    "doc = nlp(\"Berlin is the capital of Germany; and the residence of Chancellor Angela Merkel.\")\n",
    "doc.ents\n",
    "for ent in doc.ents:\n",
    "    print(ent.text, ent.label_)"
   ]
  },
  {
   "cell_type": "code",
   "execution_count": 76,
   "metadata": {},
   "outputs": [
    {
     "name": "stdout",
     "output_type": "stream",
     "text": [
      "Uber GPE\n",
      "Uber PERSON\n",
      "Apple ORG\n",
      "Uber PERSON\n",
      "Uber PERSON\n",
      "Uber PERSON\n",
      "Travis Kalanick GPE\n",
      "Uber GPE\n",
      "Tim Cook PERSON\n",
      "Apple ORG\n",
      "Millions CARDINAL\n",
      "Uber’s ORG\n",
      "Silicon Valley’s LOC\n",
      "Yahoo ORG\n",
      "Marissa Mayer PERSON\n",
      "186 MONEY\n"
     ]
    }
   ],
   "source": [
    "file_name = 'data/NLP/New_articles/uber_apple.txt'\n",
    "with open(file_name, 'r') as file:\n",
    "    nlp = spacy.load(\"en\")\n",
    "    nlp.entity\n",
    "    ff = nlp(file.read())\n",
    "    for ent in ff.ents:\n",
    "        print(ent.text, ent.label_)\n",
    "    "
   ]
  },
  {
   "cell_type": "code",
   "execution_count": null,
   "metadata": {},
   "outputs": [],
   "source": []
  },
  {
   "cell_type": "code",
   "execution_count": null,
   "metadata": {},
   "outputs": [],
   "source": []
  },
  {
   "cell_type": "code",
   "execution_count": null,
   "metadata": {},
   "outputs": [],
   "source": []
  }
 ],
 "metadata": {
  "kernelspec": {
   "display_name": "Python 3",
   "language": "python",
   "name": "python3"
  },
  "language_info": {
   "codemirror_mode": {
    "name": "ipython",
    "version": 3
   },
   "file_extension": ".py",
   "mimetype": "text/x-python",
   "name": "python",
   "nbconvert_exporter": "python",
   "pygments_lexer": "ipython3",
   "version": "3.7.2"
  }
 },
 "nbformat": 4,
 "nbformat_minor": 2
}
