{
 "cells": [
  {
   "cell_type": "markdown",
   "metadata": {},
   "source": [
    "# Natural Language Processing Fundamentals in Python\n",
    "## Named Entity Recognition?\n",
    "\n",
    "* NLP task to identify important named entities in the text\n",
    "    * People, places, organizations\n",
    "    * Dates, states, works of art\n",
    "    * ... and other categories!\n",
    "* Can be used alongside topic identification\n",
    "    * ... or on its own!\n",
    "* Who? What? When? Where?\n"
   ]
  },
  {
   "cell_type": "code",
   "execution_count": 6,
   "metadata": {},
   "outputs": [
    {
     "name": "stdout",
     "output_type": "stream",
     "text": [
      "wiki_text_bug.txt       wiki_text_debugging.txt wiki_text_malware.txt\r\n",
      "wiki_text_computer.txt  wiki_text_exception.txt wiki_text_program.txt\r\n",
      "wiki_text_crash.txt     wiki_text_hopper.txt    wiki_text_reversing.txt\r\n",
      "wiki_text_debugger.txt  wiki_text_language.txt  wiki_text_software.txt\r\n"
     ]
    }
   ],
   "source": [
    "#you can see that which article in  the file\n",
    "!ls data/NLP/Wikipedi_article\n"
   ]
  },
  {
   "cell_type": "markdown",
   "metadata": {},
   "source": [
    "### nltk and the Stanford CoreNLP Library\n",
    "* The Stanford CoreNLP library:\n",
    "* Integrated into Python via nltk\n",
    "* Java based\n",
    "* Support for NER as well as coreference and dependency trees"
   ]
  },
  {
   "cell_type": "code",
   "execution_count": null,
   "metadata": {},
   "outputs": [],
   "source": []
  }
 ],
 "metadata": {
  "kernelspec": {
   "display_name": "Python 3",
   "language": "python",
   "name": "python3"
  },
  "language_info": {
   "codemirror_mode": {
    "name": "ipython",
    "version": 3
   },
   "file_extension": ".py",
   "mimetype": "text/x-python",
   "name": "python",
   "nbconvert_exporter": "python",
   "pygments_lexer": "ipython3",
   "version": "3.7.2"
  }
 },
 "nbformat": 4,
 "nbformat_minor": 2
}
