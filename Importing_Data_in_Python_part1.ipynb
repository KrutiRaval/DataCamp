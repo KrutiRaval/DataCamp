{
 "cells": [
  {
   "attachments": {},
   "cell_type": "markdown",
   "metadata": {},
   "source": [
    "# Importing Data in Python (Part 1)\n",
    "\n",
    "As a Data Scientist, on a daily basis you will need to clean data, wrangle and munge it, visualize it, build predictive models and interpret these models. Before doing any of these, however, you will need to know how to get data into Python. In this course, you'll learn the many ways to import data into Python: (i) from flat files such as .txts and .csvs; (ii) from files native to other software such as Excel spreadsheets, Stata, SAS and MATLAB files; (iii) from relational databases such as SQLite & PostgreSQL.\n",
    "\n",
    "## Import Data From Plain Text\n",
    "To check out any plain text file, you can use the Python's open() function to open a connection to the file.\n",
    "```python\n",
    "#assign the file name to the variable string\n",
    "file_name = 'file_name.txt'\n",
    "#pass the file name to the open function using 'r' mode \n",
    "file = open(file_name, mode='r')# only for reading\n",
    "#to connection to the file apply the read() function\n",
    "text =file.read()\n",
    "#close the connection\n",
    "file.close()\n",
    "\n",
    "```\n",
    "By using a context manager construct that allows us to create a context in which you can execute commands with the file open. We can avoid having to close to connection to the file using the 'with' statement. For the large files, we may want to print a few lines. You can use 'file.readline()' function to execute the first line of a text file. If you execute the same comment again, the second line will be printing and so on.\n",
    "```python\n",
    "#By using the with open we don't need to close the connection.\n",
    "with open(file_name, 'r') as file:\n",
    "     print(file.read())\n",
    "#print out the file line by line executing with file.readline()\n",
    "with open(file_name, 'r') as file:\n",
    "     print(file.readline())\n",
    "     print(file.readline())\n",
    "     print(file.readline())\n",
    "```\n",
    "## Import data from Flat File\n",
    "\n",
    "Flat files are basic text file  containing records, that is table data, without structured relationships.\n",
    "\n",
    "It is also essential to know flat files can have a header such as in’titanic.csv’, which is row that occurs as the first row and describes the content of data columns or states what the corresponding attributes  or features in each column are.\n",
    "### importing flat file uisng Numpy\n",
    "We're now going to load the MNIST digit recognition dataset using the numpy function `loadtxt()` and see just how easy it can be:\n",
    "* The first argument will be the `filename`.\n",
    "* The second will be the `delimiter` which can take `','` for comma separated file and `'t'` for tab-delimated file\n",
    "* `skiprows` allows you to specify how many rows you wish to skip.\n",
    "* `usecols` takes a list of the indices of the columns you wish to keep.\n",
    "* `dtype=’str’` will ensure that all entries are imported as strings."
   ]
  },
  {
   "cell_type": "code",
   "execution_count": 7,
   "metadata": {},
   "outputs": [
    {
     "name": "stdout",
     "output_type": "stream",
     "text": [
      "<class 'numpy.ndarray'>\n",
      "[[1. 0. 0. ... 0. 0. 0.]\n",
      " [0. 0. 0. ... 0. 0. 0.]\n",
      " [1. 0. 0. ... 0. 0. 0.]\n",
      " ...\n",
      " [2. 0. 0. ... 0. 0. 0.]\n",
      " [0. 0. 0. ... 0. 0. 0.]\n",
      " [5. 0. 0. ... 0. 0. 0.]]\n"
     ]
    }
   ],
   "source": [
    "\n",
    "import numpy as np\n",
    "file_name = 'data/mnist_kaggle_some_rows.csv'\n",
    "#Default delimeter is white space so, we need the specify delimeter parameter explicity.\n",
    "data = np.loadtxt(file_name, delimiter=',')\n",
    "#we are reading file as a numpy array\n",
    "print(type(data))\n",
    "print(data)"
   ]
  },
  {
   "attachments": {},
   "cell_type": "markdown",
   "metadata": {},
   "source": [
    "**Importing different datatypes:** \n",
    "Let's imprt the text file which has\n",
    "* text header, consisting of  string\n",
    "* tab-delimated\n",
    "\n",
    "We are going to use seaslug.txt file which the data consists of percentage of sea slug larvae that had metamorphosed in a given time period. \n",
    "\n",
    "Due to the file  containing `string` header we need to handle it. if we import the file uisng loadtxt() without handling string file we get the `ValueError` which is tell us `could not convert string to float`. We can hadle it in 2 way:\n",
    "\n",
    "Alternative 1: We can set the `dtype =str` to avoid to ValueError,<br>\n",
    "Alternative 2: We can skip the first row , using the skiprows argument!"
   ]
  },
  {
   "cell_type": "code",
   "execution_count": 28,
   "metadata": {},
   "outputs": [
    {
     "name": "stdout",
     "output_type": "stream",
     "text": [
      "<class 'numpy.ndarray'>\n",
      "[['Time' 'Percent']\n",
      " ['99' '0.067']\n",
      " ['99' '0.133']\n",
      " ['99' '0.067']\n",
      " ['99' '0']]\n"
     ]
    }
   ],
   "source": [
    "#Alternative 1:\n",
    "file_sea_slug = 'data/seaslug.txt'\n",
    "data_alt_1 = np.loadtxt(file_sea_slug, delimiter='\\t', dtype=str)\n",
    "print(type(data_alt_1))\n",
    "print(data_alt_1[0:5])"
   ]
  },
  {
   "cell_type": "code",
   "execution_count": 26,
   "metadata": {},
   "outputs": [
    {
     "name": "stdout",
     "output_type": "stream",
     "text": [
      "<class 'numpy.ndarray'>\n",
      "[[9.90e+01 6.70e-02]\n",
      " [9.90e+01 1.33e-01]\n",
      " [9.90e+01 6.70e-02]\n",
      " [9.90e+01 0.00e+00]\n",
      " [9.90e+01 0.00e+00]\n",
      " [0.00e+00 5.00e-01]\n",
      " [0.00e+00 4.67e-01]\n",
      " [0.00e+00 8.57e-01]\n",
      " [0.00e+00 5.00e-01]]\n"
     ]
    }
   ],
   "source": [
    "#Alternative 2:\n",
    "data_alt_2 = np.loadtxt(file_sea_slug, delimiter='\\t', skiprows=1)\n",
    "print(type(data_alt_2))\n",
    "print(data_alt_2[0:9])"
   ]
  },
  {
   "attachments": {},
   "cell_type": "markdown",
   "metadata": {},
   "source": [
    "To import datasets which have different datatypes in different columns;for example, one column may contain strings and another floats. The function `np.loadtxt()` will freak at this. There is another function, `np.genfromtxt()`, which can handle such structures. If we pass `dtype=None` to it, it will figure out what types each column should be.\n",
    "```python\n",
    "data = np.genfromtxt(file_name, delimiter=',', names=True, dtype=None)\n",
    "```\n",
    "* The first argument is the filename\n",
    "* the second specifies the delimiter\n",
    "* The third argument names tells us there is a header (names=True)\n",
    "* dtype=None is represent the different data type\n",
    "\n",
    "*There is also another function `np.recfromcsv()`that behaves similarly to np.genfromtxt(), except that its default dtype is None!*"
   ]
  },
  {
   "cell_type": "code",
   "execution_count": 41,
   "metadata": {},
   "outputs": [
    {
     "name": "stdout",
     "output_type": "stream",
     "text": [
      "[(1, 0, 3, b'male', 22., 1, 0, b'A/5 21171',  7.25  , b'', b'S')\n",
      " (2, 1, 1, b'female', 38., 1, 0, b'PC 17599', 71.2833, b'C85', b'C')]\n"
     ]
    },
    {
     "name": "stderr",
     "output_type": "stream",
     "text": [
      "/anaconda3/lib/python3.7/site-packages/ipykernel_launcher.py:5: VisibleDeprecationWarning: Reading unicode strings without specifying the encoding argument is deprecated. Set the encoding, use None for the system default.\n",
      "  \"\"\"\n"
     ]
    }
   ],
   "source": [
    "# Let's look at titanic.csv \n",
    "# ',', comma separated\n",
    "# there is header\n",
    "# there are string and number data type in it.\n",
    "titanic = np.genfromtxt('data/titanic_sub.csv', delimiter=',', names=True, dtype=None)\n",
    "print(titanic[0:2])"
   ]
  },
  {
   "cell_type": "code",
   "execution_count": 37,
   "metadata": {},
   "outputs": [
    {
     "name": "stdout",
     "output_type": "stream",
     "text": [
      "[(1, 0, 3, b'male', 22., 1, 0, b'A/5 21171',  7.25  , b'', b'S')\n",
      " (2, 1, 1, b'female', 38., 1, 0, b'PC 17599', 71.2833, b'C85', b'C')\n",
      " (3, 1, 3, b'female', 26., 0, 0, b'STON/O2. 3101282',  7.925 , b'', b'S')\n",
      " (4, 1, 1, b'female', 35., 1, 0, b'113803', 53.1   , b'C123', b'S')\n",
      " (5, 0, 3, b'male', 35., 0, 0, b'373450',  8.05  , b'', b'S')]\n"
     ]
    },
    {
     "name": "stderr",
     "output_type": "stream",
     "text": [
      "/anaconda3/lib/python3.7/site-packages/numpy/lib/npyio.py:2278: VisibleDeprecationWarning: Reading unicode strings without specifying the encoding argument is deprecated. Set the encoding, use None for the system default.\n",
      "  output = genfromtxt(fname, **kwargs)\n"
     ]
    }
   ],
   "source": [
    "# using np.recfromcsv()\n",
    "titanic_2 = np.recfromcsv('data/titanic_sub.csv')\n",
    "print(titanic_2[0:5])"
   ]
  },
  {
   "cell_type": "markdown",
   "metadata": {},
   "source": [
    "## Importing flat files using pandas\n",
    "\n",
    "What we learn so far is to import a bunch of different types of flat files into python as Numpy arrays. Although the numpy array is incredibly useful and has numerous of purpose, they can not handle the data as two dimensional labeled data structure.\n",
    "Pandas offer us to the DataFrame, which has observations (rows), and variables(columns)."
   ]
  },
  {
   "cell_type": "code",
   "execution_count": 42,
   "metadata": {},
   "outputs": [],
   "source": [
    "import pandas as pd"
   ]
  },
  {
   "cell_type": "code",
   "execution_count": 46,
   "metadata": {
    "scrolled": true
   },
   "outputs": [
    {
     "name": "stdout",
     "output_type": "stream",
     "text": [
      "<class 'pandas.core.frame.DataFrame'>\n"
     ]
    },
    {
     "data": {
      "text/html": [
       "<div>\n",
       "<style scoped>\n",
       "    .dataframe tbody tr th:only-of-type {\n",
       "        vertical-align: middle;\n",
       "    }\n",
       "\n",
       "    .dataframe tbody tr th {\n",
       "        vertical-align: top;\n",
       "    }\n",
       "\n",
       "    .dataframe thead th {\n",
       "        text-align: right;\n",
       "    }\n",
       "</style>\n",
       "<table border=\"1\" class=\"dataframe\">\n",
       "  <thead>\n",
       "    <tr style=\"text-align: right;\">\n",
       "      <th></th>\n",
       "      <th>PassengerId</th>\n",
       "      <th>Survived</th>\n",
       "      <th>Pclass</th>\n",
       "      <th>Sex</th>\n",
       "      <th>Age</th>\n",
       "      <th>SibSp</th>\n",
       "      <th>Parch</th>\n",
       "      <th>Ticket</th>\n",
       "      <th>Fare</th>\n",
       "      <th>Cabin</th>\n",
       "      <th>Embarked</th>\n",
       "    </tr>\n",
       "  </thead>\n",
       "  <tbody>\n",
       "    <tr>\n",
       "      <th>0</th>\n",
       "      <td>1</td>\n",
       "      <td>0</td>\n",
       "      <td>3</td>\n",
       "      <td>male</td>\n",
       "      <td>22.0</td>\n",
       "      <td>1</td>\n",
       "      <td>0</td>\n",
       "      <td>A/5 21171</td>\n",
       "      <td>7.2500</td>\n",
       "      <td>NaN</td>\n",
       "      <td>S</td>\n",
       "    </tr>\n",
       "    <tr>\n",
       "      <th>1</th>\n",
       "      <td>2</td>\n",
       "      <td>1</td>\n",
       "      <td>1</td>\n",
       "      <td>female</td>\n",
       "      <td>38.0</td>\n",
       "      <td>1</td>\n",
       "      <td>0</td>\n",
       "      <td>PC 17599</td>\n",
       "      <td>71.2833</td>\n",
       "      <td>C85</td>\n",
       "      <td>C</td>\n",
       "    </tr>\n",
       "    <tr>\n",
       "      <th>2</th>\n",
       "      <td>3</td>\n",
       "      <td>1</td>\n",
       "      <td>3</td>\n",
       "      <td>female</td>\n",
       "      <td>26.0</td>\n",
       "      <td>0</td>\n",
       "      <td>0</td>\n",
       "      <td>STON/O2. 3101282</td>\n",
       "      <td>7.9250</td>\n",
       "      <td>NaN</td>\n",
       "      <td>S</td>\n",
       "    </tr>\n",
       "    <tr>\n",
       "      <th>3</th>\n",
       "      <td>4</td>\n",
       "      <td>1</td>\n",
       "      <td>1</td>\n",
       "      <td>female</td>\n",
       "      <td>35.0</td>\n",
       "      <td>1</td>\n",
       "      <td>0</td>\n",
       "      <td>113803</td>\n",
       "      <td>53.1000</td>\n",
       "      <td>C123</td>\n",
       "      <td>S</td>\n",
       "    </tr>\n",
       "    <tr>\n",
       "      <th>4</th>\n",
       "      <td>5</td>\n",
       "      <td>0</td>\n",
       "      <td>3</td>\n",
       "      <td>male</td>\n",
       "      <td>35.0</td>\n",
       "      <td>0</td>\n",
       "      <td>0</td>\n",
       "      <td>373450</td>\n",
       "      <td>8.0500</td>\n",
       "      <td>NaN</td>\n",
       "      <td>S</td>\n",
       "    </tr>\n",
       "  </tbody>\n",
       "</table>\n",
       "</div>"
      ],
      "text/plain": [
       "   PassengerId  Survived  Pclass     Sex   Age  SibSp  Parch  \\\n",
       "0            1         0       3    male  22.0      1      0   \n",
       "1            2         1       1  female  38.0      1      0   \n",
       "2            3         1       3  female  26.0      0      0   \n",
       "3            4         1       1  female  35.0      1      0   \n",
       "4            5         0       3    male  35.0      0      0   \n",
       "\n",
       "             Ticket     Fare Cabin Embarked  \n",
       "0         A/5 21171   7.2500   NaN        S  \n",
       "1          PC 17599  71.2833   C85        C  \n",
       "2  STON/O2. 3101282   7.9250   NaN        S  \n",
       "3            113803  53.1000  C123        S  \n",
       "4            373450   8.0500   NaN        S  "
      ]
     },
     "execution_count": 46,
     "metadata": {},
     "output_type": "execute_result"
    }
   ],
   "source": [
    "df_titanic = pd.read_csv('data/titanic_sub.csv')\n",
    "\n",
    "print(type(df_titanic))\n",
    "df_titanic.head()"
   ]
  },
  {
   "cell_type": "markdown",
   "metadata": {},
   "source": [
    "Handling read_csv() function under different circumstances \n",
    "* `sep:` Stands for a separator, a default is ',' as in .csv(comma separated values): We could specify if needed.\n",
    "*` header= None:` Load a CSV with no headers\n",
    "* `names=['column_name1','column_name2']:` Load a .csv while specifying column names\n",
    "* `index_col='date':` Load a .csv with setting the index column to column name like we would like set index as a date.\n",
    "* `na_values=['NA']:` Load a .csv while specifying \"NA\" as missing values.\n",
    "* `skiprows=3:` Load a .csv while skipping the top 3 rows"
   ]
  },
  {
   "cell_type": "code",
   "execution_count": null,
   "metadata": {},
   "outputs": [],
   "source": []
  }
 ],
 "metadata": {
  "kernelspec": {
   "display_name": "Python 3",
   "language": "python",
   "name": "python3"
  },
  "language_info": {
   "codemirror_mode": {
    "name": "ipython",
    "version": 3
   },
   "file_extension": ".py",
   "mimetype": "text/x-python",
   "name": "python",
   "nbconvert_exporter": "python",
   "pygments_lexer": "ipython3",
   "version": "3.7.0"
  }
 },
 "nbformat": 4,
 "nbformat_minor": 2
}
