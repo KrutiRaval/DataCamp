{
 "cells": [
  {
   "cell_type": "code",
   "execution_count": 1,
   "metadata": {},
   "outputs": [],
   "source": [
    "import pandas as pd\n",
    "import numpy as np"
   ]
  },
  {
   "cell_type": "code",
   "execution_count": 10,
   "metadata": {},
   "outputs": [],
   "source": [
    "def ecdf(data):\n",
    "    \"\"\"Compute ECDF for a one-dimensional array of measurements.\"\"\"\n",
    "    # Number of data points: n\n",
    "    n = len(data)\n",
    "    # x-data for the ECDF: x\n",
    "    x = np.sort(data)\n",
    "    # y-data for the ECDF: y\n",
    "    y = np.arange(1, n + 1) / n\n",
    "    return x, y"
   ]
  },
  {
   "cell_type": "code",
   "execution_count": 11,
   "metadata": {},
   "outputs": [],
   "source": [
    "def perform_bernoulli_trials(n, p):\n",
    "    \"\"\"Bernoulli trial as a flip of a possibly biased coin. Specifically, each coin flip has a probability p \n",
    "    of landing heads (success) and probability 1−p of landing tails (failure). We will write a function to \n",
    "    perform n Bernoulli trials, perform_bernoulli_trials(n, p), which returns the number of successes out of n \n",
    "    Bernoulli trials, each of which has probability p of success.\"\"\"\n",
    "    n_success = 0\n",
    "    \n",
    "    for i in range(n):\n",
    "        random_number = np.random.random()\n",
    "        if random_number < p :\n",
    "            n_success += 1\n",
    "            \n",
    "    return n_success"
   ]
  },
  {
   "cell_type": "code",
   "execution_count": 12,
   "metadata": {},
   "outputs": [],
   "source": [
    "def pearson_r(x, y):\n",
    "    \"\"\"Compute Pearson correlation coefficient between two arrays.\"\"\"\n",
    "    # Compute correlation matrix: corr_mat\n",
    "    corr_mat = np.corrcoef(x,y)\n",
    "    # Return entry [0,1]\n",
    "    return corr_mat[0,1]"
   ]
  },
  {
   "cell_type": "code",
   "execution_count": 13,
   "metadata": {},
   "outputs": [],
   "source": [
    "def bootstrap_replicate_1d(data, func):\n",
    "    \"\"\"Generate the bootstrap replicate of 1D data\n",
    "       We pass the data and also a function that compute the statisitc of interest such as np.mean, np.median\"\"\"\n",
    "    bs_sample = np.random.choice(data, len(data))\n",
    "    return func(bs_sample)"
   ]
  },
  {
   "cell_type": "code",
   "execution_count": 14,
   "metadata": {},
   "outputs": [],
   "source": [
    "def draw_bs_reps(data, func, size=1):\n",
    "    \"\"\"Genrate bootstrap replicate over and over again taking the size argument and loop\"\"\"\n",
    "    #initialize an empty array\n",
    "    bs_replicates = np.empty(size)\n",
    "    #Write a for loop that ranges over size and computes a replicate using bootstrap_replicate_1d()\n",
    "    for i in range(size):\n",
    "       bs_replicates[i] = bootstrap_replicate_1d(data, func)\n",
    "    #Return the array of replicates bs_replicates\n",
    "    return bs_replicates"
   ]
  },
  {
   "cell_type": "code",
   "execution_count": 9,
   "metadata": {},
   "outputs": [],
   "source": [
    "def draw_bs_pairs_linreg(x, y, size=1):\n",
    "    \"\"\"Perform pairs bootstrap for linear regression.\"\"\"\n",
    "    \"\"\"Compute the slope and intercept from resampled data to get bootstrap replicated \"\"\"\n",
    "    #Use np.arange() to set up an array of indices going from 0 to len(x). \n",
    "    #These are what you will resample and use them to pick values out of the x and y arrays\n",
    "    inds = np.arange(len(x))\n",
    "    #initialize an empty slope and an empty intercept replicate arrays to be of size\n",
    "    bs_slope_rep = np.empty(size)\n",
    "    bs_intercept_rep =np.empty(size)\n",
    "    \n",
    "    for i in range(size):\n",
    "        #Resample the indices inds\n",
    "        bs_inds = np.random.choice(inds, len(inds))\n",
    "        bs_x, bs_y = x[bs_inds], y[bs_inds]\n",
    "        #Use np.polyfit() on the new x and y arrays and store the computed slope and intercept\n",
    "        bs_slope_rep[i], bs_intercept_rep[i] = np.polyfit(bs_x, bs_y,1)\n",
    "    #Return the pair bootstrap replicates of the slope and intercept\n",
    "    return bs_slope_rep, bs_intercept_rep"
   ]
  },
  {
   "cell_type": "code",
   "execution_count": 15,
   "metadata": {},
   "outputs": [],
   "source": [
    "def draw_perm_reps(data_1, data_2, func, size=1):\n",
    "    \"\"\"Generate multiple permutation replicates.\"\"\"\n",
    "\n",
    "    # Initialize array of replicates: perm_replicates\n",
    "    perm_replicates = np.empty(size)\n",
    "\n",
    "    for i in range(size):\n",
    "        # Generate permutation sample\n",
    "        perm_sample_1, perm_sample_2 = permutation_sample(data_1, data_2)\n",
    "\n",
    "        # Compute the test statistic\n",
    "        perm_replicates[i] = func(perm_sample_1, perm_sample_2)\n",
    "    #Return the array of replicates\n",
    "    return perm_replicates"
   ]
  },
  {
   "cell_type": "code",
   "execution_count": 16,
   "metadata": {},
   "outputs": [],
   "source": [
    "def diff_of_means(data_1, data_2):\n",
    "    \"\"\"Difference in means of two arrays.\"\"\"\n",
    "\n",
    "    # The difference of means of data_1, data_2: diff\n",
    "    diff = np.mean(data_1) - np.mean(data_2)\n",
    "\n",
    "    return diff"
   ]
  },
  {
   "cell_type": "code",
   "execution_count": null,
   "metadata": {},
   "outputs": [],
   "source": []
  }
 ],
 "metadata": {
  "kernelspec": {
   "display_name": "Python 3",
   "language": "python",
   "name": "python3"
  },
  "language_info": {
   "codemirror_mode": {
    "name": "ipython",
    "version": 3
   },
   "file_extension": ".py",
   "mimetype": "text/x-python",
   "name": "python",
   "nbconvert_exporter": "python",
   "pygments_lexer": "ipython3",
   "version": "3.7.0"
  }
 },
 "nbformat": 4,
 "nbformat_minor": 2
}
