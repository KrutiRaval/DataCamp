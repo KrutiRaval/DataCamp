{
 "cells": [
  {
   "cell_type": "markdown",
   "metadata": {},
   "source": [
    "### Course 3: Meet the collections module"
   ]
  },
  {
   "cell_type": "code",
   "execution_count": 7,
   "metadata": {},
   "outputs": [],
   "source": [
    "import pandas as pd\n",
    "from collections import Counter"
   ]
  },
  {
   "cell_type": "code",
   "execution_count": 2,
   "metadata": {},
   "outputs": [
    {
     "name": "stdout",
     "output_type": "stream",
     "text": [
      "   station_id         stationname        date         daytype  rides\n",
      "0       40010  Austin-Forest Park  01/01/2015  SUNDAY/HOLIDAY    587\n",
      "1       40010  Austin-Forest Park  01/02/2015         WEEKDAY   1386\n",
      "2       40010  Austin-Forest Park  01/03/2015        SATURDAY    785\n",
      "3       40010  Austin-Forest Park  01/04/2015  SUNDAY/HOLIDAY    625\n",
      "4       40010  Austin-Forest Park  01/05/2015         WEEKDAY   1752\n"
     ]
    }
   ],
   "source": [
    "collection = pd.read_csv('data/cta_daily_station_totals.csv')\n",
    "print(collection.head())"
   ]
  },
  {
   "cell_type": "code",
   "execution_count": 6,
   "metadata": {},
   "outputs": [
    {
     "data": {
      "text/plain": [
       "pandas.core.series.Series"
      ]
     },
     "execution_count": 6,
     "metadata": {},
     "output_type": "execute_result"
    }
   ],
   "source": [
    "# Using Counter on lists\n",
    "station = collection['stationname']\n",
    "type(station)"
   ]
  },
  {
   "cell_type": "code",
   "execution_count": 8,
   "metadata": {},
   "outputs": [
    {
     "name": "stdout",
     "output_type": "stream",
     "text": [
      "Counter({'Austin-Forest Park': 700, 'Harlem-Lake': 700, 'Pulaski-Lake': 700, 'Quincy/Wells': 700, 'Davis': 700, \"Belmont-O'Hare\": 700, 'Jackson/Dearborn': 700, 'Sheridan': 700, 'Damen-Brown': 700, 'Morse': 700, '35th/Archer': 700, '51st': 700, 'Dempster-Skokie': 700, 'Pulaski-Cermak': 700, 'LaSalle/Van Buren': 700, 'Ashland-Lake': 700, 'Oak Park-Forest Park': 700, 'Sox-35th-Dan Ryan': 700, 'Randolph/Wabash': 700, 'Damen-Cermak': 700, 'Western-Forest Park': 700, 'Cumberland': 700, '79th': 700, 'Kedzie-Homan-Forest Park': 700, 'State/Lake': 700, 'Main': 700, 'Central-Lake': 700, 'Ashland/63rd': 700, 'Indiana': 700, 'Western-Orange': 700, 'Division/Milwaukee': 700, 'Grand/State': 700, 'Berwyn': 700, 'UIC-Halsted': 700, 'Southport': 700, 'Washington/Dearborn': 700, 'Clark/Lake': 700, 'Forest Park': 700, 'Noyes': 700, 'Cicero-Cermak': 700, 'Clinton-Forest Park': 700, 'California-Cermak': 700, '95th/Dan Ryan': 700, 'Merchandise Mart': 700, 'Racine': 700, 'Cicero-Lake': 700, 'Grand/Milwaukee': 700, 'Garfield-South Elevated': 700, 'Foster': 700, 'Diversey': 700, 'Wilson': 700, \"Irving Park-O'Hare\": 700, 'Jackson/State': 700, 'California/Milwaukee': 700, '54th/Cermak': 700, 'Damen/Milwaukee': 700, 'Kostner': 700, 'Ridgeland': 700, 'Clark/Division': 700, 'Madison/Wabash': 700, 'North/Clybourn': 700, 'Armitage': 700, 'Western/Milwaukee': 700, 'Adams/Wabash': 700, 'Dempster': 700, 'Laramie': 700, 'Chicago/Franklin': 700, 'East 63rd-Cottage Grove': 700, 'Washington/Wells': 700, 'Western-Cermak': 700, \"Harlem-O'Hare\": 700, 'Granville': 700, 'Lawrence': 700, 'Central Park': 700, 'Monroe/Dearborn': 700, 'Sedgwick': 700, 'Medical Center': 700, 'Rosemont': 700, '18th': 700, 'South Boulevard': 700, 'Library': 700, 'Francisco': 700, 'Thorndale': 700, \"O'Hare Airport\": 700, 'Howard': 700, '63rd-Dan Ryan': 700, 'Pulaski-Forest Park': 700, 'Midway Airport': 700, 'Halsted/63rd': 700, 'Pulaski-Orange': 700, 'Cicero-Forest Park': 700, 'Harlem-Forest Park': 700, '69th': 700, 'Cermak-Chinatown': 700, 'Rockwell': 700, 'Logan Square': 700, 'Polk': 700, 'Kedzie-Cermak': 700, 'Linden': 700, 'Ashland-Orange': 700, 'Kedzie-Lake': 700, '47th-South Elevated': 700, 'Monroe/State': 700, '35-Bronzeville-IIT': 700, 'Halsted-Orange': 700, 'King Drive': 700, 'Kedzie-Midway': 700, 'Clinton-Lake': 700, 'Garfield-Dan Ryan': 700, 'Kedzie-Brown': 700, 'Jarvis': 700, 'Argyle': 700, 'Wellington': 700, 'Fullerton': 700, '47th-Dan Ryan': 700, \"Addison-O'Hare\": 700, 'Central-Evanston': 700, 'Austin-Lake': 700, '43rd': 700, 'Jefferson Park': 700, 'Kimball': 700, 'Loyola': 700, 'Paulina': 700, 'Belmont-North Main': 700, \"Montrose-O'Hare\": 700, 'LaSalle': 700, 'Oak Park-Lake': 700, 'California-Lake': 700, 'Bryn Mawr': 700, 'Roosevelt': 700, 'Chicago/Milwaukee': 700, 'Addison-North Main': 700, '87th': 700, 'Addison-Brown': 700, 'Chicago/State': 700, 'Irving Park-Brown': 700, 'Western-Brown': 700, 'Harrison': 700, 'Montrose-Brown': 700, 'Morgan-Lake': 700, 'Lake/State': 700, 'Conservatory': 700, 'Oakton-Skokie': 700, 'Cermak-McCormick Place': 700})\n"
     ]
    }
   ],
   "source": [
    "# Create a Counter of the stations list: station_count\n",
    "station_count = Counter(station)\n",
    "print(station_count)"
   ]
  },
  {
   "cell_type": "code",
   "execution_count": 9,
   "metadata": {},
   "outputs": [
    {
     "name": "stdout",
     "output_type": "stream",
     "text": [
      "[('Austin-Forest Park', 700), ('Harlem-Lake', 700), ('Pulaski-Lake', 700), ('Quincy/Wells', 700), ('Davis', 700)]\n"
     ]
    }
   ],
   "source": [
    "# Find the 5 most common elements using most_common()\n",
    "print(station_count.most_common(5))"
   ]
  },
  {
   "cell_type": "code",
   "execution_count": null,
   "metadata": {},
   "outputs": [],
   "source": []
  }
 ],
 "metadata": {
  "kernelspec": {
   "display_name": "Python 3",
   "language": "python",
   "name": "python3"
  },
  "language_info": {
   "codemirror_mode": {
    "name": "ipython",
    "version": 3
   },
   "file_extension": ".py",
   "mimetype": "text/x-python",
   "name": "python",
   "nbconvert_exporter": "python",
   "pygments_lexer": "ipython3",
   "version": "3.7.0"
  }
 },
 "nbformat": 4,
 "nbformat_minor": 2
}
