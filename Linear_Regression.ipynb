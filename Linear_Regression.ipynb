{
 "cells": [
  {
   "cell_type": "markdown",
   "metadata": {},
   "source": [
    "# Linear Regression\n",
    "\n",
    "Linear Regression is a statistical technique that model a relationship between two variable. These two variables are independent (explanotary) and depended-variable. Independent variables(response) can't be controlled, they need to be estimated or predicted. The depended variable is controllable as it is input value.\n",
    "\n",
    "**The goal in regression problems is to predict the value of a continuous independed variable**\n",
    "\n",
    "**Example:** Suppose you wish to know the price of a pizza. But we have machine learning book, so we will use simple linear regression to predict the price of a pizza based on an attribute of the pizza that we can observe. Let's model the relationship between the size of a pizza and its price.\n",
    "\n",
    "\n",
    "|Diameter (inc)|Price ($)|\n",
    "|---|---|\n",
    "|6|7|\n",
    "|8|9|\n",
    "|10|13|\n",
    "|14|17.5|\n",
    "|18|18|\n",
    "\n",
    "* We can visualize our training data by plotting it on a graph using matplotlib\n"
   ]
  },
  {
   "cell_type": "code",
   "execution_count": 56,
   "metadata": {},
   "outputs": [
    {
     "data": {
      "image/png": "[encoded data removed]",
      "text/plain": [
       "<Figure size 432x288 with 1 Axes>"
      ]
     },
     "metadata": {},
     "output_type": "display_data"
    }
   ],
   "source": [
    "#import the matplot\n",
    "import matplotlib.pyplot as plt\n",
    "import seaborn as sns\n",
    "import pandas as pd\n",
    "import numpy as np\n",
    "sns.set()\n",
    "#define the data #reshape for one varibale\n",
    "X = np.array([6,8,10,14,18]).reshape(-1,1)\n",
    "y = np.array([7,9,13,17.5,18]).reshape(-1,1)\n",
    "\n",
    "plt.xlabel('Diameter in inches')\n",
    "plt.ylabel('Pizza price plotted against diameter')\n",
    "plt.title('Pizza price plotted against diameter')\n",
    "plt.plot(X,y,'k.')\n",
    "plt.show()"
   ]
  },
  {
   "cell_type": "code",
   "execution_count": 57,
   "metadata": {},
   "outputs": [
    {
     "data": {
      "text/plain": [
       "LinearRegression(copy_X=True, fit_intercept=True, n_jobs=None, normalize=False)"
      ]
     },
     "execution_count": 57,
     "metadata": {},
     "output_type": "execute_result"
    }
   ],
   "source": [
    "#Let'r create our model\n",
    "from sklearn.linear_model import  LinearRegression\n",
    "model = LinearRegression()\n",
    "model.fit(X,y)\n"
   ]
  },
  {
   "cell_type": "code",
   "execution_count": 66,
   "metadata": {},
   "outputs": [
    {
     "name": "stdout",
     "output_type": "stream",
     "text": [
      "[[ 7.82327586]\n",
      " [ 9.77586207]\n",
      " [11.72844828]\n",
      " [15.63362069]\n",
      " [19.5387931 ]]\n"
     ]
    }
   ],
   "source": [
    "print(model.predict(X))"
   ]
  },
  {
   "cell_type": "code",
   "execution_count": 70,
   "metadata": {},
   "outputs": [
    {
     "name": "stdout",
     "output_type": "stream",
     "text": [
      "[[0.9762931]]\n"
     ]
    }
   ],
   "source": [
    "print(model.coef_)"
   ]
  },
  {
   "cell_type": "code",
   "execution_count": 67,
   "metadata": {},
   "outputs": [
    {
     "name": "stdout",
     "output_type": "stream",
     "text": [
      "0.9100015964240102\n"
     ]
    }
   ],
   "source": [
    "print(model.score(X,y))"
   ]
  },
  {
   "cell_type": "code",
   "execution_count": 79,
   "metadata": {},
   "outputs": [],
   "source": [
    "def find_inc(x):\n",
    "    \"\"\"Find the price for a given diameter value\"\"\"\n",
    "    #y = mx + b\n",
    "    find_y = model.coef_ * x + model.intercept_\n",
    "    return np.round(find_y,2)"
   ]
  },
  {
   "cell_type": "code",
   "execution_count": 80,
   "metadata": {},
   "outputs": [
    {
     "name": "stdout",
     "output_type": "stream",
     "text": [
      "[[13.68]]\n"
     ]
    }
   ],
   "source": [
    "print(find_inc(12))"
   ]
  },
  {
   "cell_type": "markdown",
   "metadata": {},
   "source": [
    "The fit method of LinearRegression learns the parameters of the following model for simple linear regression:\n",
    "$y =\\beta x +  \\alpha  $ y is the predicted value of the response variable(or independed variable); in this example, it is the predicted price of the pizza. x is the explanatory variable(depended-variable). The intercept  $\\alpha$ term  and $\\beta$ coefficient are parameters of the model that are learned by the learning algorithm.\n",
    "\n",
    "We need to find out that our model quality. For this, we use the loss function also called cost function.  This function is the calculated sum of the squared residuals. Residuals are defined with the differences between the predicted values by the observed values in the training data set. \n",
    "\n",
    "* In statistics, this function called in different ways \n",
    "    * Residual sum of squares(RSS)\n",
    "    * Sum of squared residual (SSR)\n",
    "    * Sum of squared estimated of error(SSE)\n",
    "    \n",
    "    \n",
    "$$RSS = \\sum_{i=1}^{n}({y_i - f(x_i)})^2 $$\n",
    "\n"
   ]
  },
  {
   "cell_type": "code",
   "execution_count": 84,
   "metadata": {},
   "outputs": [
    {
     "name": "stdout",
     "output_type": "stream",
     "text": [
      "1.7495689655172406\n"
     ]
    }
   ],
   "source": [
    "RSS = np.mean((model.predict(X) - y) ** 2)\n",
    "print(RSS)"
   ]
  },
  {
   "cell_type": "markdown",
   "metadata": {},
   "source": [
    "* Now that we have a cost function, we can find the values of our model's parameters that minimize it. $\\beta$ and $\\alpha$ minimize the cost function. We will solve $\\bate$ first. To do so, we will calculate the *variance* of x and *covariance* of x and y.\n",
    "\n",
    "\n",
    "* *Variance* is a measure of how far a set of values is spread out. Variance can be calculated using the following equation: \n",
    "\n",
    "$$var(x) = \\frac{\\sum_{i=1}^{n}(x_i - \\bar{x} )^2 }{n-1}$$\n",
    "\n",
    "* $\\bar{x}$ is the mean of the x\n",
    "* $x_i$ is the value of x for the $i^th$ training instance\n",
    "* n is the number of training instances"
   ]
  },
  {
   "cell_type": "code",
   "execution_count": 106,
   "metadata": {},
   "outputs": [
    {
     "name": "stdout",
     "output_type": "stream",
     "text": [
      "23.2\n",
      "23.2\n"
     ]
    }
   ],
   "source": [
    "#Let's calculate the variance ofor\n",
    "x = [[6,8,10,14,18]]\n",
    "x_mean = np.mean(x)\n",
    "variance = np.sum([(i - x_mean)**2 for i in x])/4\n",
    "print(variance)\n",
    "#there is also numpy methot the calculate the variance\n",
    "#The ddof keyword parameter can be used to set Bessel's correction to calculate the sample variance:\n",
    "print(np.var(x, ddof=1))"
   ]
  },
  {
   "cell_type": "markdown",
   "metadata": {},
   "source": [
    "* **Covariance** is a measure of how much two variables change together. If the value of\n",
    "the variables increase together, their covariance is positive. If one variable tends to\n",
    "increase while the other decreases, their covariance is negative. If there is no linear\n",
    "relationship between the two variables, their covariance will be equal to zero; the\n",
    "variables are linearly uncorrelated but not necessarily independent. Covariance can\n",
    "be calculated using the following formula:\n",
    "\n",
    "$$cov(x,y) = \\frac{\\sum_{i=1}^{n}(x_i - \\bar{x})(y_i - \\bar{y})}{n-1} $$"
   ]
  },
  {
   "cell_type": "code",
   "execution_count": 111,
   "metadata": {},
   "outputs": [
    {
     "name": "stdout",
     "output_type": "stream",
     "text": [
      "22.65\n",
      "22.650000000000002\n"
     ]
    }
   ],
   "source": [
    "y_cov =[[7,9,13,17.5,18]]\n",
    "y_mean = np.mean(y_cov)\n",
    "\n",
    "cov = np.sum([[(i - x_mean)*(j- y_mean) for i in x] for j in y_cov])/4\n",
    "print(cov)\n",
    "\n",
    "#there is numpy method for covariance\n",
    "\n",
    "print(np.cov(x,y_cov)[0][1])\n"
   ]
  },
  {
   "cell_type": "markdown",
   "metadata": {},
   "source": [
    "Now that we have calculated the variance of our explanatory variable and the covariance of the response and explanatory variables, we can solve $\\beta$ using the following formula:\n",
    "\n",
    "$$\\beta = \\frac{cov(x,y)}{var(x)}$$"
   ]
  },
  {
   "cell_type": "code",
   "execution_count": 114,
   "metadata": {},
   "outputs": [
    {
     "name": "stdout",
     "output_type": "stream",
     "text": [
      "0.9762931034482758\n"
     ]
    }
   ],
   "source": [
    "#Let's calculate the beta\n",
    "beta = cov / variance\n",
    "print(beta)"
   ]
  },
  {
   "cell_type": "markdown",
   "metadata": {},
   "source": [
    "* We can solve $\\alpha$ using the following formula: \n",
    "$$\\alpha = \\bar{y} -\\beta \\bar{x} $$"
   ]
  },
  {
   "cell_type": "code",
   "execution_count": 115,
   "metadata": {},
   "outputs": [
    {
     "name": "stdout",
     "output_type": "stream",
     "text": [
      "1.9655172413793114\n"
     ]
    }
   ],
   "source": [
    "alpha = y_mean - beta * x_mean\n",
    "print(alpha)"
   ]
  },
  {
   "cell_type": "code",
   "execution_count": 116,
   "metadata": {},
   "outputs": [],
   "source": [
    "def price_expect(x):\n",
    "    result = beta * x + alpha\n",
    "    return round(result, 2)"
   ]
  },
  {
   "cell_type": "code",
   "execution_count": 117,
   "metadata": {},
   "outputs": [
    {
     "name": "stdout",
     "output_type": "stream",
     "text": [
      "12.7\n"
     ]
    }
   ],
   "source": [
    "print(price_expect(11))"
   ]
  },
  {
   "cell_type": "code",
   "execution_count": 118,
   "metadata": {},
   "outputs": [
    {
     "name": "stdout",
     "output_type": "stream",
     "text": [
      "13.68\n"
     ]
    }
   ],
   "source": [
    "print(price_expect(12))"
   ]
  },
  {
   "cell_type": "code",
   "execution_count": null,
   "metadata": {},
   "outputs": [],
   "source": []
  }
 ],
 "metadata": {
  "kernelspec": {
   "display_name": "Python 3",
   "language": "python",
   "name": "python3"
  },
  "language_info": {
   "codemirror_mode": {
    "name": "ipython",
    "version": 3
   },
   "file_extension": ".py",
   "mimetype": "text/x-python",
   "name": "python",
   "nbconvert_exporter": "python",
   "pygments_lexer": "ipython3",
   "version": "3.7.2"
  }
 },
 "nbformat": 4,
 "nbformat_minor": 2
}
